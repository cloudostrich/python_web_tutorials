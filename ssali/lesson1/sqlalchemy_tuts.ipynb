{
 "cells": [
  {
   "cell_type": "code",
   "execution_count": 1,
   "id": "4c238c9f",
   "metadata": {},
   "outputs": [],
   "source": [
    "import sqlalchemy as sa"
   ]
  },
  {
   "cell_type": "code",
   "execution_count": 22,
   "id": "5ae0f4c4-23dc-4cb2-ac00-d90230369131",
   "metadata": {},
   "outputs": [],
   "source": [
    "from sqlalchemy.orm import declarative_base, sessionmaker"
   ]
  },
  {
   "cell_type": "code",
   "execution_count": 3,
   "id": "11d9058a-cb89-4a55-a73d-e7e51a8c3623",
   "metadata": {},
   "outputs": [],
   "source": [
    "from datetime import datetime"
   ]
  },
  {
   "cell_type": "code",
   "execution_count": 10,
   "id": "40ee847c-4180-4c26-b0cc-7d99132a62db",
   "metadata": {},
   "outputs": [],
   "source": [
    "import os"
   ]
  },
  {
   "cell_type": "code",
   "execution_count": 5,
   "id": "145d3040-7444-4542-9b47-17a8a415dad7",
   "metadata": {},
   "outputs": [
    {
     "data": {
      "text/plain": [
       "'1.4.15'"
      ]
     },
     "execution_count": 5,
     "metadata": {},
     "output_type": "execute_result"
    }
   ],
   "source": [
    "sa.__version__"
   ]
  },
  {
   "cell_type": "markdown",
   "id": "dc0402d6-b1b4-42d6-a585-09d0684a1938",
   "metadata": {},
   "source": [
    "## Create schema of database, ie table schema"
   ]
  },
  {
   "cell_type": "code",
   "execution_count": 6,
   "id": "b2357233-6922-4bc1-9f19-b7ea104d1a0f",
   "metadata": {},
   "outputs": [],
   "source": [
    "Base = declarative_base()"
   ]
  },
  {
   "cell_type": "markdown",
   "id": "b8506cd7-b5c9-4b26-b1bd-9cf991d5d7ae",
   "metadata": {},
   "source": [
    "# User class/table\n",
    "class User\n",
    "    id int\n",
    "    username str\n",
    "    email str\n",
    "    date_created datetime\n",
    "    "
   ]
  },
  {
   "cell_type": "code",
   "execution_count": 7,
   "id": "83853aaf-7d1f-4625-89a2-81c3a4855947",
   "metadata": {},
   "outputs": [],
   "source": [
    "class User(Base):\n",
    "    __tablename__='users'\n",
    "    id=sa.Column(sa.Integer(), primary_key=True)\n",
    "    username=sa.Column(sa.String(25),nullable=False, unique=True)\n",
    "    email=sa.Column(sa.String(80), unique=True, nullable=False)\n",
    "    date_created=sa.Column(sa.DateTime(),default=datetime.utcnow)\n",
    "    \n",
    "    def __repr__(self):\n",
    "        return f\"<User username={self.username} email={self.email}>\""
   ]
  },
  {
   "cell_type": "code",
   "execution_count": 8,
   "id": "2ecf5ba7-59f3-4518-9595-98141c8b15c5",
   "metadata": {},
   "outputs": [
    {
     "name": "stdout",
     "output_type": "stream",
     "text": [
      "<User username=gugu email=gugu@gugu.com>\n"
     ]
    }
   ],
   "source": [
    "new_user = User(id=1, username=\"gugu\", email=\"gugu@gugu.com\")\n",
    "print(new_user)"
   ]
  },
  {
   "cell_type": "markdown",
   "id": "2f839fcb-ff60-46fe-b4a3-ef22ece62a57",
   "metadata": {},
   "source": [
    "## set up pathname for db file, and create engine for dbase"
   ]
  },
  {
   "cell_type": "code",
   "execution_count": 15,
   "id": "0a063d5c-be97-4528-a288-16d7b0d9fbfc",
   "metadata": {},
   "outputs": [
    {
     "data": {
      "text/plain": [
       "'/home/jc/gits/ssali'"
      ]
     },
     "execution_count": 15,
     "metadata": {},
     "output_type": "execute_result"
    }
   ],
   "source": [
    "os.path.abspath('')"
   ]
  },
  {
   "cell_type": "code",
   "execution_count": 16,
   "id": "9d32ffd4-b3db-4554-95d2-15f4c150112d",
   "metadata": {},
   "outputs": [],
   "source": [
    "#BASE_DIR = os.path.dirname(os.path.realpath(__file__))\n",
    "BASE_DIR = os.path.abspath('')"
   ]
  },
  {
   "cell_type": "code",
   "execution_count": 17,
   "id": "87f9b2f4-59b7-4982-99e3-ff67275a3d21",
   "metadata": {},
   "outputs": [],
   "source": [
    "conn_str = \"sqlite:///\"+os.path.join(BASE_DIR,'site.db')"
   ]
  },
  {
   "cell_type": "code",
   "execution_count": null,
   "id": "5447ee18-be2b-48f0-aa5f-37426d529cf5",
   "metadata": {},
   "outputs": [],
   "source": []
  },
  {
   "cell_type": "code",
   "execution_count": 18,
   "id": "dbd27c34-106e-4a94-8a1b-29a687f44623",
   "metadata": {},
   "outputs": [],
   "source": [
    "engine = sa.create_engine(conn_str, echo=True)"
   ]
  },
  {
   "cell_type": "markdown",
   "id": "dd7c7566-2572-4d3f-ae94-3179fdf6fc49",
   "metadata": {},
   "source": [
    "### use User, engine and Base to create database"
   ]
  },
  {
   "cell_type": "code",
   "execution_count": 19,
   "id": "b5742862-b317-41b0-9524-a9d4b1700720",
   "metadata": {},
   "outputs": [],
   "source": [
    "# from main import User, engine, Base"
   ]
  },
  {
   "cell_type": "code",
   "execution_count": 21,
   "id": "9d5c201a-6c42-442e-803e-512526c7b07c",
   "metadata": {},
   "outputs": [
    {
     "name": "stdout",
     "output_type": "stream",
     "text": [
      "2021-10-04 18:41:21,282 INFO sqlalchemy.engine.Engine BEGIN (implicit)\n",
      "2021-10-04 18:41:21,284 INFO sqlalchemy.engine.Engine PRAGMA main.table_info(\"users\")\n",
      "2021-10-04 18:41:21,284 INFO sqlalchemy.engine.Engine [raw sql] ()\n",
      "2021-10-04 18:41:21,285 INFO sqlalchemy.engine.Engine COMMIT\n"
     ]
    }
   ],
   "source": [
    "Base.metadata.create_all(engine)"
   ]
  },
  {
   "cell_type": "code",
   "execution_count": null,
   "id": "54ae6554-ff74-4ce9-a5d6-035505be1508",
   "metadata": {},
   "outputs": [],
   "source": []
  },
  {
   "cell_type": "markdown",
   "id": "d664873d-e380-4f43-9742-5c79ed483897",
   "metadata": {},
   "source": [
    "## use sessionmaker to create session, to interact with dbase"
   ]
  },
  {
   "cell_type": "code",
   "execution_count": 23,
   "id": "3487305a-2476-4458-a9c1-4ccd37d7c5dc",
   "metadata": {},
   "outputs": [],
   "source": [
    "Session=sessionmaker()"
   ]
  },
  {
   "cell_type": "code",
   "execution_count": 28,
   "id": "6540ed44-4e84-4ac8-a882-234b3557cccf",
   "metadata": {},
   "outputs": [],
   "source": [
    "local_session=Session(bind=engine)"
   ]
  },
  {
   "cell_type": "code",
   "execution_count": 30,
   "id": "c347675e-6569-4534-b4be-eb208d8e5fd5",
   "metadata": {},
   "outputs": [],
   "source": [
    "new_user=User(username=\"ccb\", email=\"ccb@cb.com\")"
   ]
  },
  {
   "cell_type": "code",
   "execution_count": 31,
   "id": "a08d7703-29c1-4a93-88e8-c041b888560f",
   "metadata": {},
   "outputs": [],
   "source": [
    "local_session.add(new_user)"
   ]
  },
  {
   "cell_type": "code",
   "execution_count": 32,
   "id": "667783b4-083f-467b-8318-e49a65e22118",
   "metadata": {},
   "outputs": [
    {
     "name": "stdout",
     "output_type": "stream",
     "text": [
      "2021-10-04 19:10:39,121 INFO sqlalchemy.engine.Engine BEGIN (implicit)\n",
      "2021-10-04 19:10:39,125 INFO sqlalchemy.engine.Engine INSERT INTO users (username, email, date_created) VALUES (?, ?, ?)\n",
      "2021-10-04 19:10:39,126 INFO sqlalchemy.engine.Engine [generated in 0.00144s] ('ccb', 'ccb@cb.com', '2021-10-04 11:10:39.125293')\n",
      "2021-10-04 19:10:39,135 INFO sqlalchemy.engine.Engine COMMIT\n"
     ]
    }
   ],
   "source": [
    "local_session.commit()"
   ]
  },
  {
   "cell_type": "code",
   "execution_count": 33,
   "id": "87f6d63a-6ad3-4cf6-88b8-122cbf1a969d",
   "metadata": {},
   "outputs": [],
   "source": [
    "users = [\n",
    "    {\"username\":\"knn\",\n",
    "    \"email\":\"knn@knn.com\"},\n",
    "        {\"username\":\"cok\",\n",
    "    \"email\":\"cok@knn.com\"},\n",
    "        {\"username\":\"lj\",\n",
    "    \"email\":\"lj@knn.com\"},\n",
    "        {\"username\":\"nabe\",\n",
    "    \"email\":\"nabe@knn.com\"},\n",
    "]"
   ]
  },
  {
   "cell_type": "code",
   "execution_count": 35,
   "id": "32becf8e-38ab-4b93-a38b-92e6576bd641",
   "metadata": {},
   "outputs": [
    {
     "name": "stdout",
     "output_type": "stream",
     "text": [
      "New User: <User username=knn email=knn@knn.com> Added\n",
      "New User: <User username=cok email=cok@knn.com> Added\n",
      "New User: <User username=lj email=lj@knn.com> Added\n",
      "New User: <User username=nabe email=nabe@knn.com> Added\n",
      "2021-10-04 19:16:40,375 INFO sqlalchemy.engine.Engine BEGIN (implicit)\n",
      "2021-10-04 19:16:40,386 INFO sqlalchemy.engine.Engine INSERT INTO users (username, email, date_created) VALUES (?, ?, ?)\n",
      "2021-10-04 19:16:40,388 INFO sqlalchemy.engine.Engine [cached since 361.3s ago] ('knn', 'knn@knn.com', '2021-10-04 11:16:40.386354')\n",
      "2021-10-04 19:16:40,401 INFO sqlalchemy.engine.Engine INSERT INTO users (username, email, date_created) VALUES (?, ?, ?)\n",
      "2021-10-04 19:16:40,404 INFO sqlalchemy.engine.Engine [cached since 361.3s ago] ('cok', 'cok@knn.com', '2021-10-04 11:16:40.401328')\n",
      "2021-10-04 19:16:40,413 INFO sqlalchemy.engine.Engine INSERT INTO users (username, email, date_created) VALUES (?, ?, ?)\n",
      "2021-10-04 19:16:40,414 INFO sqlalchemy.engine.Engine [cached since 361.3s ago] ('lj', 'lj@knn.com', '2021-10-04 11:16:40.413219')\n",
      "2021-10-04 19:16:40,415 INFO sqlalchemy.engine.Engine INSERT INTO users (username, email, date_created) VALUES (?, ?, ?)\n",
      "2021-10-04 19:16:40,415 INFO sqlalchemy.engine.Engine [cached since 361.3s ago] ('nabe', 'nabe@knn.com', '2021-10-04 11:16:40.415030')\n",
      "2021-10-04 19:16:40,416 INFO sqlalchemy.engine.Engine COMMIT\n"
     ]
    }
   ],
   "source": [
    "for u in users:\n",
    "    new_user=User(username=u[\"username\"], email=u[\"email\"])\n",
    "    local_session.add(new_user)\n",
    "    print(f\"New User: {new_user} Added\")\n",
    "\n",
    "local_session.commit()"
   ]
  },
  {
   "cell_type": "markdown",
   "id": "1668ae54-27f8-40ef-aa78-aee4a064548c",
   "metadata": {},
   "source": [
    "## Read data from dbase"
   ]
  },
  {
   "cell_type": "code",
   "execution_count": 36,
   "id": "bf957b29-aa0b-4896-b614-e45dbb117c7d",
   "metadata": {},
   "outputs": [],
   "source": [
    "# from main import User, Session, engine"
   ]
  },
  {
   "cell_type": "code",
   "execution_count": 37,
   "id": "46fd470d-1ba0-4911-87dc-40d78a611fcc",
   "metadata": {},
   "outputs": [],
   "source": [
    "#local_session=Session(bind=engine)"
   ]
  },
  {
   "cell_type": "code",
   "execution_count": 39,
   "id": "22c9c1fe-be51-4bdd-a699-4e28255c19ea",
   "metadata": {},
   "outputs": [
    {
     "name": "stdout",
     "output_type": "stream",
     "text": [
      "2021-10-04 19:20:23,511 INFO sqlalchemy.engine.Engine SELECT users.id AS users_id, users.username AS users_username, users.email AS users_email, users.date_created AS users_date_created \n",
      "FROM users\n",
      "2021-10-04 19:20:23,512 INFO sqlalchemy.engine.Engine [cached since 42.04s ago] ()\n",
      "ccb\n",
      "knn\n",
      "cok\n"
     ]
    }
   ],
   "source": [
    "# QUery for all\n",
    "users=local_session.query(User).all()[:3]\n",
    "\n",
    "for user in users:\n",
    "    print(user.username)"
   ]
  },
  {
   "cell_type": "code",
   "execution_count": 43,
   "id": "a9381bfc-8bf2-4513-b4db-d08b4243a31e",
   "metadata": {},
   "outputs": [
    {
     "name": "stdout",
     "output_type": "stream",
     "text": [
      "2021-10-04 19:26:24,434 INFO sqlalchemy.engine.Engine SELECT users.id AS users_id, users.username AS users_username, users.email AS users_email, users.date_created AS users_date_created \n",
      "FROM users \n",
      "WHERE users.username = ?\n",
      "2021-10-04 19:26:24,449 INFO sqlalchemy.engine.Engine [generated in 0.01533s] ('ccb',)\n",
      "[<User username=ccb email=ccb@cb.com>]\n"
     ]
    }
   ],
   "source": [
    "# Query for 1 row \n",
    "#oneguy = local_session.query(User).filter(User.username=='ccb').first()\n",
    "oneguy = local_session.query(User).filter(User.username=='ccb').all()\n",
    "\n",
    "print(oneguy)"
   ]
  },
  {
   "cell_type": "code",
   "execution_count": 41,
   "id": "0b5cac72-e05d-4f68-b41e-dacfc6506732",
   "metadata": {},
   "outputs": [
    {
     "name": "stdout",
     "output_type": "stream",
     "text": [
      "2021-10-04 19:23:02,491 INFO sqlalchemy.engine.Engine SELECT users.id AS users_id, users.username AS users_username, users.email AS users_email, users.date_created AS users_date_created \n",
      "FROM users\n",
      " LIMIT ? OFFSET ?\n",
      "2021-10-04 19:23:02,493 INFO sqlalchemy.engine.Engine [generated in 0.00188s] (1, 0)\n",
      "<User username=ccb email=ccb@cb.com>\n"
     ]
    }
   ],
   "source": [
    "oneguy = local_session.query(User).first()\n",
    "print(oneguy)"
   ]
  },
  {
   "cell_type": "markdown",
   "id": "edec1c03-61b3-430b-9f81-e8ee94d19811",
   "metadata": {},
   "source": [
    "### Update a row"
   ]
  },
  {
   "cell_type": "code",
   "execution_count": 44,
   "id": "1782006a-f7f0-4744-ac47-c04ff1ce8066",
   "metadata": {},
   "outputs": [
    {
     "name": "stdout",
     "output_type": "stream",
     "text": [
      "2021-10-04 19:27:32,793 INFO sqlalchemy.engine.Engine SELECT users.id AS users_id, users.username AS users_username, users.email AS users_email, users.date_created AS users_date_created \n",
      "FROM users \n",
      "WHERE users.username = ?\n",
      " LIMIT ? OFFSET ?\n",
      "2021-10-04 19:27:32,800 INFO sqlalchemy.engine.Engine [cached since 320.2s ago] ('ccb', 1, 0)\n",
      "2021-10-04 19:27:32,806 INFO sqlalchemy.engine.Engine UPDATE users SET username=?, email=? WHERE users.id = ?\n",
      "2021-10-04 19:27:32,808 INFO sqlalchemy.engine.Engine [generated in 0.00130s] ('knnccb', 'knnccb@ccb.com', 1)\n",
      "2021-10-04 19:27:32,811 INFO sqlalchemy.engine.Engine COMMIT\n"
     ]
    }
   ],
   "source": [
    "user_2_update = local_session.query(User).filter(User.username=='ccb').first()\n",
    "\n",
    "user_2_update.username = 'knnccb'\n",
    "user_2_update.email = 'knnccb@ccb.com'\n",
    "\n",
    "local_session.commit()"
   ]
  },
  {
   "cell_type": "markdown",
   "id": "99d78483-be4a-4078-a076-a459eb031930",
   "metadata": {},
   "source": [
    "## Delete a record"
   ]
  },
  {
   "cell_type": "code",
   "execution_count": 45,
   "id": "8ac16ec2-d946-4e22-8f42-dce786264027",
   "metadata": {},
   "outputs": [
    {
     "name": "stdout",
     "output_type": "stream",
     "text": [
      "2021-10-04 19:30:14,627 INFO sqlalchemy.engine.Engine BEGIN (implicit)\n",
      "2021-10-04 19:30:14,628 INFO sqlalchemy.engine.Engine SELECT users.id AS users_id, users.username AS users_username, users.email AS users_email, users.date_created AS users_date_created \n",
      "FROM users \n",
      "WHERE users.username = ?\n",
      " LIMIT ? OFFSET ?\n",
      "2021-10-04 19:30:14,629 INFO sqlalchemy.engine.Engine [cached since 482s ago] ('cok', 1, 0)\n",
      "2021-10-04 19:30:14,654 INFO sqlalchemy.engine.Engine DELETE FROM users WHERE users.id = ?\n",
      "2021-10-04 19:30:14,659 INFO sqlalchemy.engine.Engine [generated in 0.00513s] (3,)\n",
      "2021-10-04 19:30:14,669 INFO sqlalchemy.engine.Engine COMMIT\n"
     ]
    }
   ],
   "source": [
    "user2del = local_session.query(User).filter(User.username=='cok').first()\n",
    "\n",
    "local_session.delete(user2del)\n",
    "local_session.commit()"
   ]
  },
  {
   "cell_type": "markdown",
   "id": "13e510dc-107b-4ab0-89d6-04a2e954f1d4",
   "metadata": {},
   "source": [
    "## Ordering results of query"
   ]
  },
  {
   "cell_type": "code",
   "execution_count": 46,
   "id": "974c640f-9020-4e07-8e6c-51499aae28b3",
   "metadata": {},
   "outputs": [
    {
     "name": "stdout",
     "output_type": "stream",
     "text": [
      "2021-10-04 19:32:56,911 INFO sqlalchemy.engine.Engine BEGIN (implicit)\n",
      "2021-10-04 19:32:56,915 INFO sqlalchemy.engine.Engine SELECT users.id AS users_id, users.username AS users_username, users.email AS users_email, users.date_created AS users_date_created \n",
      "FROM users ORDER BY users.username\n",
      "2021-10-04 19:32:56,916 INFO sqlalchemy.engine.Engine [generated in 0.00104s] ()\n",
      "[<User username=knn email=knn@knn.com>, <User username=knnccb email=knnccb@ccb.com>, <User username=lj email=lj@knn.com>, <User username=nabe email=nabe@knn.com>]\n"
     ]
    }
   ],
   "source": [
    "# Ascending\n",
    "users = local_session.query(User).order_by(User.username).all()\n",
    "print(users)"
   ]
  },
  {
   "cell_type": "code",
   "execution_count": 48,
   "id": "6be2c242-8445-49cd-9960-6d592ffbecb7",
   "metadata": {},
   "outputs": [
    {
     "name": "stdout",
     "output_type": "stream",
     "text": [
      "knn\n",
      "knnccb\n",
      "lj\n",
      "nabe\n"
     ]
    }
   ],
   "source": [
    "for user in users:\n",
    "    print(user.username)"
   ]
  },
  {
   "cell_type": "code",
   "execution_count": 49,
   "id": "df91290d-b053-420b-8633-375774da23a6",
   "metadata": {},
   "outputs": [
    {
     "name": "stdout",
     "output_type": "stream",
     "text": [
      "2021-10-04 19:35:39,332 INFO sqlalchemy.engine.Engine SELECT users.id AS users_id, users.username AS users_username, users.email AS users_email, users.date_created AS users_date_created \n",
      "FROM users ORDER BY users.username DESC\n",
      "2021-10-04 19:35:39,338 INFO sqlalchemy.engine.Engine [generated in 0.00583s] ()\n",
      "nabe\n",
      "lj\n",
      "knnccb\n",
      "knn\n"
     ]
    }
   ],
   "source": [
    "# Descending\n",
    "users_desc = local_session.query(User).order_by(sa.desc(User.username)).all()\n",
    "\n",
    "for user in users_desc:\n",
    "    print(user.username)"
   ]
  },
  {
   "cell_type": "code",
   "execution_count": null,
   "id": "a833b13a-e5f8-4bcb-a437-73c30d98aa14",
   "metadata": {},
   "outputs": [],
   "source": []
  }
 ],
 "metadata": {
  "kernelspec": {
   "display_name": "Python 3",
   "language": "python",
   "name": "python3"
  },
  "language_info": {
   "codemirror_mode": {
    "name": "ipython",
    "version": 3
   },
   "file_extension": ".py",
   "mimetype": "text/x-python",
   "name": "python",
   "nbconvert_exporter": "python",
   "pygments_lexer": "ipython3",
   "version": "3.9.4"
  }
 },
 "nbformat": 4,
 "nbformat_minor": 5
}
